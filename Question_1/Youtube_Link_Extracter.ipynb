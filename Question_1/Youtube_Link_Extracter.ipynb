{
  "cells": [
    {
      "cell_type": "code",
      "execution_count": null,
      "metadata": {
        "id": "BZ0to7vrVXU-",
        "outputId": "16cf0764-c408-4a71-8410-2d73872bc23e"
      },
      "outputs": [
        {
          "name": "stdout",
          "output_type": "stream",
          "text": [
            "Collecting youtube-transcript-api\n",
            "  Downloading youtube_transcript_api-0.6.2-py3-none-any.whl.metadata (15 kB)\n",
            "Requirement already satisfied: requests in c:\\users\\sreej\\appdata\\local\\programs\\python\\python310\\lib\\site-packages (from youtube-transcript-api) (2.32.3)\n",
            "Requirement already satisfied: charset-normalizer<4,>=2 in c:\\users\\sreej\\appdata\\local\\programs\\python\\python310\\lib\\site-packages (from requests->youtube-transcript-api) (3.3.2)\n",
            "Requirement already satisfied: idna<4,>=2.5 in c:\\users\\sreej\\appdata\\local\\programs\\python\\python310\\lib\\site-packages (from requests->youtube-transcript-api) (3.8)\n",
            "Requirement already satisfied: urllib3<3,>=1.21.1 in c:\\users\\sreej\\appdata\\local\\programs\\python\\python310\\lib\\site-packages (from requests->youtube-transcript-api) (2.2.2)\n",
            "Requirement already satisfied: certifi>=2017.4.17 in c:\\users\\sreej\\appdata\\local\\programs\\python\\python310\\lib\\site-packages (from requests->youtube-transcript-api) (2024.8.30)\n",
            "Downloading youtube_transcript_api-0.6.2-py3-none-any.whl (24 kB)\n",
            "Installing collected packages: youtube-transcript-api\n",
            "Successfully installed youtube-transcript-api-0.6.2\n",
            "Note: you may need to restart the kernel to use updated packages.\n"
          ]
        }
      ],
      "source": [
        "pip install youtube-transcript-api\n"
      ]
    },
    {
      "cell_type": "code",
      "execution_count": null,
      "metadata": {
        "id": "TZAqvCnFVXVG",
        "outputId": "79220de2-5db0-427f-ca77-9e367ca253c9"
      },
      "outputs": [
        {
          "name": "stdout",
          "output_type": "stream",
          "text": [
            "Error: \n",
            "Could not retrieve a transcript for the video https://www.youtube.com/watch?v=--f=c:\\Users\\sreej\\AppData\\Roaming\\jupyter\\runtime\\kernel-v3954a3750f43e3c07e02aefcd7e116f642c19b5ba.json! This is most likely caused by:\n",
            "\n",
            "Subtitles are disabled for this video\n",
            "\n",
            "If you are sure that the described cause is not responsible for this error and that a transcript should be retrievable, please create an issue at https://github.com/jdepoix/youtube-transcript-api/issues. Please add which version of youtube_transcript_api you are using and provide the information needed to replicate the error. Also make sure that there are no open issues which already describe your problem!\n",
            "Could not fetch the transcript.\n"
          ]
        }
      ],
      "source": [
        "from youtube_transcript_api import YouTubeTranscriptApi\n",
        "from youtube_transcript_api.formatters import JSONFormatter\n",
        "import sys\n",
        "\n",
        "def get_youtube_transcript(video_id, language='hi'):\n",
        "    try:\n",
        "        transcript = YouTubeTranscriptApi.get_transcript(video_id, languages=[language])\n",
        "        return transcript\n",
        "    except Exception as e:\n",
        "        print(f\"Error: {e}\")\n",
        "        return None\n",
        "\n",
        "def save_transcript_to_file(transcript, filename='transcript.txt'):\n",
        "    with open(filename, 'w', encoding='utf-8') as file:\n",
        "        for entry in transcript:\n",
        "            file.write(f\"{entry['text']}\\n\")\n",
        "\n",
        "def main(video_url):\n",
        "    # Extract video ID from the URL\n",
        "    video_id = video_url.split('v=')[-1]\n",
        "\n",
        "    # Get Hindi transcript\n",
        "    transcript = get_youtube_transcript(video_id)\n",
        "\n",
        "    if transcript:\n",
        "        # Save transcript to file\n",
        "        save_transcript_to_file(transcript)\n",
        "        print(\"Transcript saved to transcript.txt\")\n",
        "    else:\n",
        "        print(\"Could not fetch the transcript.\")\n",
        "\n",
        "if __name__ == \"__main__\":\n",
        "    if len(sys.argv) != 2:\n",
        "        print(\"Usage: python script.py <youtube_video_url>\")\n",
        "    else:\n",
        "        video_url = sys.argv[1]\n",
        "        main(video_url)\n"
      ]
    },
    {
      "cell_type": "code",
      "execution_count": null,
      "metadata": {
        "id": "XaFloY8jVXVI",
        "outputId": "ee1c84e0-9ba1-48af-dd07-280582f32b73"
      },
      "outputs": [
        {
          "name": "stdout",
          "output_type": "stream",
          "text": [
            "Collecting yt-dlpNote: you may need to restart the kernel to use updated packages.\n",
            "\n",
            "  Downloading yt_dlp-2024.8.6-py3-none-any.whl.metadata (170 kB)\n",
            "Collecting brotli (from yt-dlp)\n",
            "  Downloading Brotli-1.1.0-cp310-cp310-win_amd64.whl.metadata (5.6 kB)\n",
            "Requirement already satisfied: certifi in c:\\users\\sreej\\appdata\\local\\programs\\python\\python310\\lib\\site-packages (from yt-dlp) (2024.8.30)\n",
            "Collecting mutagen (from yt-dlp)\n",
            "  Downloading mutagen-1.47.0-py3-none-any.whl.metadata (1.7 kB)\n",
            "Collecting pycryptodomex (from yt-dlp)\n",
            "  Downloading pycryptodomex-3.20.0-cp35-abi3-win_amd64.whl.metadata (3.4 kB)\n",
            "Requirement already satisfied: requests<3,>=2.32.2 in c:\\users\\sreej\\appdata\\local\\programs\\python\\python310\\lib\\site-packages (from yt-dlp) (2.32.3)\n",
            "Requirement already satisfied: urllib3<3,>=1.26.17 in c:\\users\\sreej\\appdata\\local\\programs\\python\\python310\\lib\\site-packages (from yt-dlp) (2.2.2)\n",
            "Collecting websockets>=12.0 (from yt-dlp)\n",
            "  Downloading websockets-13.0.1-cp310-cp310-win_amd64.whl.metadata (6.9 kB)\n",
            "Requirement already satisfied: charset-normalizer<4,>=2 in c:\\users\\sreej\\appdata\\local\\programs\\python\\python310\\lib\\site-packages (from requests<3,>=2.32.2->yt-dlp) (3.3.2)\n",
            "Requirement already satisfied: idna<4,>=2.5 in c:\\users\\sreej\\appdata\\local\\programs\\python\\python310\\lib\\site-packages (from requests<3,>=2.32.2->yt-dlp) (3.8)\n",
            "Downloading yt_dlp-2024.8.6-py3-none-any.whl (3.1 MB)\n",
            "   ---------------------------------------- 0.0/3.1 MB ? eta -:--:--\n",
            "   ---------------------------------------- 3.1/3.1 MB 15.3 MB/s eta 0:00:00\n",
            "Downloading websockets-13.0.1-cp310-cp310-win_amd64.whl (152 kB)\n",
            "Downloading Brotli-1.1.0-cp310-cp310-win_amd64.whl (357 kB)\n",
            "Downloading mutagen-1.47.0-py3-none-any.whl (194 kB)\n",
            "Downloading pycryptodomex-3.20.0-cp35-abi3-win_amd64.whl (1.8 MB)\n",
            "   ---------------------------------------- 0.0/1.8 MB ? eta -:--:--\n",
            "   ---------------------------------------- 1.8/1.8 MB 24.2 MB/s eta 0:00:00\n",
            "Installing collected packages: brotli, websockets, pycryptodomex, mutagen, yt-dlp\n",
            "Successfully installed brotli-1.1.0 mutagen-1.47.0 pycryptodomex-3.20.0 websockets-13.0.1 yt-dlp-2024.8.6\n"
          ]
        }
      ],
      "source": [
        "pip install yt-dlp\n"
      ]
    },
    {
      "cell_type": "code",
      "execution_count": null,
      "metadata": {
        "id": "u14auQhUVXVJ",
        "outputId": "55972c71-1c78-42d9-ec9c-017f88eb907f"
      },
      "outputs": [
        {
          "name": "stderr",
          "output_type": "stream",
          "text": [
            "WARNING: [youtube:tab] unable to extract yt initial data; please report this issue on  https://github.com/yt-dlp/yt-dlp/issues?q= , filling out the appropriate issue template. Confirm you are on the latest version using  yt-dlp -U\n",
            "WARNING: [youtube:tab] Incomplete yt initial data received. Retrying (1/3)...\n",
            "WARNING: [youtube:tab] unable to extract yt initial data; please report this issue on  https://github.com/yt-dlp/yt-dlp/issues?q= , filling out the appropriate issue template. Confirm you are on the latest version using  yt-dlp -U\n",
            "WARNING: [youtube:tab] Incomplete yt initial data received. Retrying (2/3)...\n",
            "WARNING: [youtube:tab] unable to extract yt initial data; please report this issue on  https://github.com/yt-dlp/yt-dlp/issues?q= , filling out the appropriate issue template. Confirm you are on the latest version using  yt-dlp -U\n",
            "WARNING: [youtube:tab] Incomplete yt initial data received. Retrying (3/3)...\n",
            "WARNING: [youtube:tab] unable to extract yt initial data; please report this issue on  https://github.com/yt-dlp/yt-dlp/issues?q= , filling out the appropriate issue template. Confirm you are on the latest version using  yt-dlp -U\n",
            "WARNING: [youtube:tab] Incomplete yt initial data received; please report this issue on  https://github.com/yt-dlp/yt-dlp/issues?q= , filling out the appropriate issue template. Confirm you are on the latest version using  yt-dlp -U. Giving up after 3 retries\n",
            "ERROR: [youtube:tab] @maithiliganga4714: @maithiliganga4714: Failed to parse JSON (caused by JSONDecodeError(\"Expecting value in '': line 1 column 1 (char 0)\")); please report this issue on  https://github.com/yt-dlp/yt-dlp/issues?q= , filling out the appropriate issue template. Confirm you are on the latest version using  yt-dlp -U\n"
          ]
        },
        {
          "name": "stdout",
          "output_type": "stream",
          "text": [
            "Error: ERROR: [youtube:tab] @maithiliganga4714: @maithiliganga4714: Failed to parse JSON (caused by JSONDecodeError(\"Expecting value in '': line 1 column 1 (char 0)\")); please report this issue on  https://github.com/yt-dlp/yt-dlp/issues?q= , filling out the appropriate issue template. Confirm you are on the latest version using  yt-dlp -U\n",
            "Could not extract video links.\n"
          ]
        }
      ],
      "source": [
        "import yt_dlp\n",
        "\n",
        "def extract_video_links(channel_url):\n",
        "    # Set up yt-dlp options for extracting video links\n",
        "    ydl_opts = {\n",
        "        'extract_flat': True,  # Do not download, just extract links\n",
        "        'quiet': True  # Reduce output verbosity\n",
        "    }\n",
        "\n",
        "    video_links = []\n",
        "\n",
        "    with yt_dlp.YoutubeDL(ydl_opts) as ydl:\n",
        "        try:\n",
        "            # Extract information from the channel URL\n",
        "            info = ydl.extract_info(channel_url, download=False)\n",
        "\n",
        "            # Loop through all videos in the channel and store their URLs\n",
        "            if 'entries' in info:\n",
        "                for entry in info['entries']:\n",
        "                    video_link = f\"https://www.youtube.com/watch?v={entry['id']}\"\n",
        "                    video_links.append(video_link)\n",
        "\n",
        "            return video_links\n",
        "        except Exception as e:\n",
        "            print(f\"Error: {e}\")\n",
        "            return None\n",
        "\n",
        "def save_links_to_file(links, filename='video_links.txt'):\n",
        "    with open(filename, 'w', encoding='utf-8') as file:\n",
        "        for link in links:\n",
        "            file.write(link + '\\n')\n",
        "\n",
        "if __name__ == \"__main__\":\n",
        "    # Provide the channel URL\n",
        "    channel_url = \"https://www.youtube.com/@maithiliganga4714/\"  # Replace with actual channel URL\n",
        "\n",
        "    # Extract video links\n",
        "    links = extract_video_links(channel_url)\n",
        "\n",
        "    if links:\n",
        "        print(f\"Extracted {len(links)} video links from the channel.\")\n",
        "\n",
        "        # Save video links to file\n",
        "        save_links_to_file(links)\n",
        "        print(\"Video links saved to video_links.txt\")\n",
        "    else:\n",
        "        print(\"Could not extract video links.\")\n"
      ]
    },
    {
      "cell_type": "code",
      "execution_count": null,
      "metadata": {
        "id": "J6m4ZT5YVXVK",
        "outputId": "72b4c605-bb5a-489b-c8bd-a6b4c558f59a"
      },
      "outputs": [
        {
          "name": "stdout",
          "output_type": "stream",
          "text": [
            "Collecting google-api-python-client\n",
            "  Downloading google_api_python_client-2.144.0-py2.py3-none-any.whl.metadata (6.7 kB)\n",
            "Collecting httplib2<1.dev0,>=0.19.0 (from google-api-python-client)\n",
            "  Downloading httplib2-0.22.0-py3-none-any.whl.metadata (2.6 kB)\n",
            "Collecting google-auth!=2.24.0,!=2.25.0,<3.0.0.dev0,>=1.32.0 (from google-api-python-client)\n",
            "  Downloading google_auth-2.34.0-py2.py3-none-any.whl.metadata (4.7 kB)\n",
            "Collecting google-auth-httplib2<1.0.0,>=0.2.0 (from google-api-python-client)\n",
            "  Downloading google_auth_httplib2-0.2.0-py2.py3-none-any.whl.metadata (2.2 kB)\n",
            "Collecting google-api-core!=2.0.*,!=2.1.*,!=2.2.*,!=2.3.0,<3.0.0.dev0,>=1.31.5 (from google-api-python-client)\n",
            "  Downloading google_api_core-2.19.2-py3-none-any.whl.metadata (2.7 kB)\n",
            "Collecting uritemplate<5,>=3.0.1 (from google-api-python-client)\n",
            "  Downloading uritemplate-4.1.1-py2.py3-none-any.whl.metadata (2.9 kB)\n",
            "Collecting googleapis-common-protos<2.0.dev0,>=1.56.2 (from google-api-core!=2.0.*,!=2.1.*,!=2.2.*,!=2.3.0,<3.0.0.dev0,>=1.31.5->google-api-python-client)\n",
            "  Downloading googleapis_common_protos-1.65.0-py2.py3-none-any.whl.metadata (1.5 kB)\n",
            "Collecting protobuf!=3.20.0,!=3.20.1,!=4.21.0,!=4.21.1,!=4.21.2,!=4.21.3,!=4.21.4,!=4.21.5,<6.0.0.dev0,>=3.19.5 (from google-api-core!=2.0.*,!=2.1.*,!=2.2.*,!=2.3.0,<3.0.0.dev0,>=1.31.5->google-api-python-client)\n",
            "  Downloading protobuf-5.28.0-cp310-abi3-win_amd64.whl.metadata (592 bytes)\n",
            "Collecting proto-plus<2.0.0dev,>=1.22.3 (from google-api-core!=2.0.*,!=2.1.*,!=2.2.*,!=2.3.0,<3.0.0.dev0,>=1.31.5->google-api-python-client)\n",
            "  Downloading proto_plus-1.24.0-py3-none-any.whl.metadata (2.2 kB)\n",
            "Requirement already satisfied: requests<3.0.0.dev0,>=2.18.0 in c:\\users\\sreej\\appdata\\local\\programs\\python\\python310\\lib\\site-packages (from google-api-core!=2.0.*,!=2.1.*,!=2.2.*,!=2.3.0,<3.0.0.dev0,>=1.31.5->google-api-python-client) (2.32.3)\n",
            "Collecting cachetools<6.0,>=2.0.0 (from google-auth!=2.24.0,!=2.25.0,<3.0.0.dev0,>=1.32.0->google-api-python-client)\n",
            "  Downloading cachetools-5.5.0-py3-none-any.whl.metadata (5.3 kB)\n",
            "Collecting pyasn1-modules>=0.2.1 (from google-auth!=2.24.0,!=2.25.0,<3.0.0.dev0,>=1.32.0->google-api-python-client)\n",
            "  Downloading pyasn1_modules-0.4.0-py3-none-any.whl.metadata (3.4 kB)\n",
            "Collecting rsa<5,>=3.1.4 (from google-auth!=2.24.0,!=2.25.0,<3.0.0.dev0,>=1.32.0->google-api-python-client)\n",
            "  Downloading rsa-4.9-py3-none-any.whl.metadata (4.2 kB)\n",
            "Requirement already satisfied: pyparsing!=3.0.0,!=3.0.1,!=3.0.2,!=3.0.3,<4,>=2.4.2 in c:\\users\\sreej\\appdata\\local\\programs\\python\\python310\\lib\\site-packages (from httplib2<1.dev0,>=0.19.0->google-api-python-client) (3.0.8)\n",
            "Collecting pyasn1<0.7.0,>=0.4.6 (from pyasn1-modules>=0.2.1->google-auth!=2.24.0,!=2.25.0,<3.0.0.dev0,>=1.32.0->google-api-python-client)\n",
            "  Downloading pyasn1-0.6.0-py2.py3-none-any.whl.metadata (8.3 kB)\n",
            "Requirement already satisfied: charset-normalizer<4,>=2 in c:\\users\\sreej\\appdata\\local\\programs\\python\\python310\\lib\\site-packages (from requests<3.0.0.dev0,>=2.18.0->google-api-core!=2.0.*,!=2.1.*,!=2.2.*,!=2.3.0,<3.0.0.dev0,>=1.31.5->google-api-python-client) (3.3.2)\n",
            "Requirement already satisfied: idna<4,>=2.5 in c:\\users\\sreej\\appdata\\local\\programs\\python\\python310\\lib\\site-packages (from requests<3.0.0.dev0,>=2.18.0->google-api-core!=2.0.*,!=2.1.*,!=2.2.*,!=2.3.0,<3.0.0.dev0,>=1.31.5->google-api-python-client) (3.8)\n",
            "Requirement already satisfied: urllib3<3,>=1.21.1 in c:\\users\\sreej\\appdata\\local\\programs\\python\\python310\\lib\\site-packages (from requests<3.0.0.dev0,>=2.18.0->google-api-core!=2.0.*,!=2.1.*,!=2.2.*,!=2.3.0,<3.0.0.dev0,>=1.31.5->google-api-python-client) (2.2.2)\n",
            "Requirement already satisfied: certifi>=2017.4.17 in c:\\users\\sreej\\appdata\\local\\programs\\python\\python310\\lib\\site-packages (from requests<3.0.0.dev0,>=2.18.0->google-api-core!=2.0.*,!=2.1.*,!=2.2.*,!=2.3.0,<3.0.0.dev0,>=1.31.5->google-api-python-client) (2024.8.30)\n",
            "Downloading google_api_python_client-2.144.0-py2.py3-none-any.whl (12.2 MB)\n",
            "   ---------------------------------------- 0.0/12.2 MB ? eta -:--:--\n",
            "   ------- -------------------------------- 2.4/12.2 MB 16.8 MB/s eta 0:00:01\n",
            "   ------------------------ --------------- 7.6/12.2 MB 21.4 MB/s eta 0:00:01\n",
            "   ---------------------------------------  12.1/12.2 MB 22.2 MB/s eta 0:00:01\n",
            "   ---------------------------------------- 12.2/12.2 MB 21.2 MB/s eta 0:00:00\n",
            "Downloading google_api_core-2.19.2-py3-none-any.whl (139 kB)\n",
            "Downloading google_auth-2.34.0-py2.py3-none-any.whl (200 kB)\n",
            "Downloading google_auth_httplib2-0.2.0-py2.py3-none-any.whl (9.3 kB)\n",
            "Downloading httplib2-0.22.0-py3-none-any.whl (96 kB)\n",
            "Downloading uritemplate-4.1.1-py2.py3-none-any.whl (10 kB)\n",
            "Downloading cachetools-5.5.0-py3-none-any.whl (9.5 kB)\n",
            "Downloading googleapis_common_protos-1.65.0-py2.py3-none-any.whl (220 kB)\n",
            "Downloading proto_plus-1.24.0-py3-none-any.whl (50 kB)\n",
            "Downloading protobuf-5.28.0-cp310-abi3-win_amd64.whl (431 kB)\n",
            "Downloading pyasn1_modules-0.4.0-py3-none-any.whl (181 kB)\n",
            "Downloading rsa-4.9-py3-none-any.whl (34 kB)\n",
            "Downloading pyasn1-0.6.0-py2.py3-none-any.whl (85 kB)\n",
            "Installing collected packages: uritemplate, pyasn1, protobuf, httplib2, cachetools, rsa, pyasn1-modules, proto-plus, googleapis-common-protos, google-auth, google-auth-httplib2, google-api-core, google-api-python-client\n",
            "Successfully installed cachetools-5.5.0 google-api-core-2.19.2 google-api-python-client-2.144.0 google-auth-2.34.0 google-auth-httplib2-0.2.0 googleapis-common-protos-1.65.0 httplib2-0.22.0 proto-plus-1.24.0 protobuf-5.28.0 pyasn1-0.6.0 pyasn1-modules-0.4.0 rsa-4.9 uritemplate-4.1.1\n",
            "Note: you may need to restart the kernel to use updated packages.\n"
          ]
        }
      ],
      "source": [
        "pip install google-api-python-client\n"
      ]
    },
    {
      "cell_type": "code",
      "execution_count": null,
      "metadata": {
        "id": "QeVxZHs9VXVL",
        "outputId": "df8c6949-042d-44fa-9380-b7a3fcbd9ef5"
      },
      "outputs": [
        {
          "name": "stdout",
          "output_type": "stream",
          "text": [
            "Extracted 668 video links from the channel.\n",
            "Video links saved to video_links.txt\n"
          ]
        }
      ],
      "source": [
        "from googleapiclient.discovery import build\n",
        "\n",
        "def get_video_links(api_key, channel_id):\n",
        "    youtube = build('youtube', 'v3', developerKey=api_key)\n",
        "\n",
        "    video_links = []\n",
        "    next_page_token = None\n",
        "\n",
        "    while True:\n",
        "        # Fetch the playlist ID for the channel's uploads\n",
        "        request = youtube.channels().list(\n",
        "            part=\"contentDetails\",\n",
        "            id=channel_id\n",
        "        )\n",
        "        response = request.execute()\n",
        "\n",
        "        # Get the uploads playlist ID\n",
        "        uploads_playlist_id = response['items'][0]['contentDetails']['relatedPlaylists']['uploads']\n",
        "\n",
        "        # Fetch the videos in the uploads playlist\n",
        "        playlist_request = youtube.playlistItems().list(\n",
        "            part=\"snippet\",\n",
        "            playlistId=uploads_playlist_id,\n",
        "            maxResults=50,\n",
        "            pageToken=next_page_token\n",
        "        )\n",
        "        playlist_response = playlist_request.execute()\n",
        "\n",
        "        # Loop through each video and extract the video ID\n",
        "        for item in playlist_response['items']:\n",
        "            video_id = item['snippet']['resourceId']['videoId']\n",
        "            video_url = f\"https://www.youtube.com/watch?v={video_id}\"\n",
        "            video_links.append(video_url)\n",
        "\n",
        "        # Check if there is a next page\n",
        "        next_page_token = playlist_response.get('nextPageToken')\n",
        "        if not next_page_token:\n",
        "            break\n",
        "\n",
        "    return video_links\n",
        "\n",
        "def save_links_to_file(links, filename='video20_links.txt'):\n",
        "    with open(filename, 'w', encoding='utf-8') as file:\n",
        "        for link in links:\n",
        "            file.write(link + '\\n')\n",
        "\n",
        "if __name__ == \"__main__\":\n",
        "    # Your YouTube API key\n",
        "    api_key = \"API Key\"\n",
        "\n",
        "    # YouTube channel ID (not the URL)\n",
        "    channel_id = \"UCNMujyFCJxcHlvIMekaBuDw\"  # Replace with the actual channel ID\n",
        "\n",
        "    # Extract video links\n",
        "    links = get_video_links(api_key, channel_id)\n",
        "\n",
        "    if links:\n",
        "        print(f\"Extracted {len(links)} video links from the channel.\")\n",
        "\n",
        "        # Save video links to file\n",
        "        save_links_to_file(links)\n",
        "        print(\"Video links saved to video_links.txt\")\n",
        "    else:\n",
        "        print(\"Could not extract video links.\")\n"
      ]
    },
    {
      "cell_type": "code",
      "execution_count": null,
      "metadata": {
        "id": "1BL3F-XBVXVM"
      },
      "outputs": [],
      "source": []
    }
  ],
  "metadata": {
    "kernelspec": {
      "display_name": "Python 3",
      "language": "python",
      "name": "python3"
    },
    "language_info": {
      "codemirror_mode": {
        "name": "ipython",
        "version": 3
      },
      "file_extension": ".py",
      "mimetype": "text/x-python",
      "name": "python",
      "nbconvert_exporter": "python",
      "pygments_lexer": "ipython3",
      "version": "3.10.1"
    },
    "colab": {
      "provenance": []
    }
  },
  "nbformat": 4,
  "nbformat_minor": 0
}